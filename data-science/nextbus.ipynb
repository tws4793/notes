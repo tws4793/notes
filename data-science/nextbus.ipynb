{
 "cells": [
  {
   "cell_type": "code",
   "execution_count": 1,
   "metadata": {},
   "outputs": [],
   "source": [
    "import requests\n",
    "import os\n",
    "from settings import settings"
   ]
  },
  {
   "cell_type": "code",
   "execution_count": 2,
   "metadata": {},
   "outputs": [],
   "source": [
    "url = 'http://datamall2.mytransport.sg/ltaodataservice/BusArrivalv2'\n",
    "bs_code = '08069'\n",
    "svc_no = '167e'\n",
    "#BusStopCode\n",
    "#ServiceNo"
   ]
  },
  {
   "cell_type": "code",
   "execution_count": 9,
   "metadata": {},
   "outputs": [],
   "source": [
    "pl = {'BusStopCode': '66271', 'ServiceNo': ''}\n",
    "headers = {'AccountKey': os.getenv('LTA_ACCOUNT_KEY')}\n",
    "\n",
    "try:\n",
    "    r = requests.get(url, params=pl, headers=headers)\n",
    "except requests.exceptions.ConnectionError as e:\n",
    "    print(e.args[0].reason)"
   ]
  },
  {
   "cell_type": "code",
   "execution_count": 10,
   "metadata": {},
   "outputs": [
    {
     "data": {
      "text/plain": [
       "{'odata.metadata': 'http://datamall2.mytransport.sg/ltaodataservice/$metadata#BusArrivalv2/@Element',\n",
       " 'BusStopCode': '66271',\n",
       " 'Services': [{'ServiceNo': '136',\n",
       "   'Operator': 'GAS',\n",
       "   'NextBus': {'OriginCode': '65009',\n",
       "    'DestinationCode': '54009',\n",
       "    'EstimatedArrival': '2019-01-30T17:07:11+08:00',\n",
       "    'Latitude': '1.3527443333333333',\n",
       "    'Longitude': '103.87700933333333',\n",
       "    'VisitNumber': '1',\n",
       "    'Load': 'SDA',\n",
       "    'Feature': 'WAB',\n",
       "    'Type': 'SD'},\n",
       "   'NextBus2': {'OriginCode': '65009',\n",
       "    'DestinationCode': '54009',\n",
       "    'EstimatedArrival': '2019-01-30T17:13:58+08:00',\n",
       "    'Latitude': '1.3621221666666665',\n",
       "    'Longitude': '103.887364',\n",
       "    'VisitNumber': '1',\n",
       "    'Load': 'SEA',\n",
       "    'Feature': 'WAB',\n",
       "    'Type': 'SD'},\n",
       "   'NextBus3': {'OriginCode': '65009',\n",
       "    'DestinationCode': '54009',\n",
       "    'EstimatedArrival': '2019-01-30T17:28:05+08:00',\n",
       "    'Latitude': '1.3816843333333333',\n",
       "    'Longitude': '103.90192533333334',\n",
       "    'VisitNumber': '1',\n",
       "    'Load': 'SEA',\n",
       "    'Feature': 'WAB',\n",
       "    'Type': 'SD'}},\n",
       "  {'ServiceNo': '136',\n",
       "   'Operator': 'GAS',\n",
       "   'NextBus': {'OriginCode': '54009',\n",
       "    'DestinationCode': '65009',\n",
       "    'EstimatedArrival': '2019-01-30T17:00:34+08:00',\n",
       "    'Latitude': '1.3586765',\n",
       "    'Longitude': '103.868325',\n",
       "    'VisitNumber': '1',\n",
       "    'Load': 'SEA',\n",
       "    'Feature': 'WAB',\n",
       "    'Type': 'SD'},\n",
       "   'NextBus2': {'OriginCode': '54009',\n",
       "    'DestinationCode': '65009',\n",
       "    'EstimatedArrival': '2019-01-30T17:14:36+08:00',\n",
       "    'Latitude': '1.3699158333333332',\n",
       "    'Longitude': '103.84921966666667',\n",
       "    'VisitNumber': '1',\n",
       "    'Load': 'SEA',\n",
       "    'Feature': 'WAB',\n",
       "    'Type': 'SD'},\n",
       "   'NextBus3': {'OriginCode': '54009',\n",
       "    'DestinationCode': '65009',\n",
       "    'EstimatedArrival': '2019-01-30T17:24:02+08:00',\n",
       "    'Latitude': '0',\n",
       "    'Longitude': '0',\n",
       "    'VisitNumber': '1',\n",
       "    'Load': 'SEA',\n",
       "    'Feature': 'WAB',\n",
       "    'Type': 'SD'}},\n",
       "  {'ServiceNo': '315',\n",
       "   'Operator': 'SBST',\n",
       "   'NextBus': {'OriginCode': '66009',\n",
       "    'DestinationCode': '66009',\n",
       "    'EstimatedArrival': '2019-01-30T16:59:30+08:00',\n",
       "    'Latitude': '1.3635405',\n",
       "    'Longitude': '103.8677965',\n",
       "    'VisitNumber': '2',\n",
       "    'Load': 'SEA',\n",
       "    'Feature': 'WAB',\n",
       "    'Type': 'SD'},\n",
       "   'NextBus2': {'OriginCode': '66009',\n",
       "    'DestinationCode': '66009',\n",
       "    'EstimatedArrival': '2019-01-30T17:02:17+08:00',\n",
       "    'Latitude': '1.3580875',\n",
       "    'Longitude': '103.86822466666666',\n",
       "    'VisitNumber': '1',\n",
       "    'Load': 'SEA',\n",
       "    'Feature': 'WAB',\n",
       "    'Type': 'SD'},\n",
       "   'NextBus3': {'OriginCode': '66009',\n",
       "    'DestinationCode': '66009',\n",
       "    'EstimatedArrival': '2019-01-30T17:07:12+08:00',\n",
       "    'Latitude': '1.3693405',\n",
       "    'Longitude': '103.8720595',\n",
       "    'VisitNumber': '2',\n",
       "    'Load': 'SEA',\n",
       "    'Feature': 'WAB',\n",
       "    'Type': 'SD'}},\n",
       "  {'ServiceNo': '317',\n",
       "   'Operator': 'SBST',\n",
       "   'NextBus': {'OriginCode': '66009',\n",
       "    'DestinationCode': '66009',\n",
       "    'EstimatedArrival': '2019-01-30T17:00:20+08:00',\n",
       "    'Latitude': '1.3636141666666666',\n",
       "    'Longitude': '103.869302',\n",
       "    'VisitNumber': '1',\n",
       "    'Load': 'SEA',\n",
       "    'Feature': 'WAB',\n",
       "    'Type': 'SD'},\n",
       "   'NextBus2': {'OriginCode': '66009',\n",
       "    'DestinationCode': '66009',\n",
       "    'EstimatedArrival': '2019-01-30T17:05:45+08:00',\n",
       "    'Latitude': '1.3588343333333333',\n",
       "    'Longitude': '103.86189733333333',\n",
       "    'VisitNumber': '2',\n",
       "    'Load': 'SEA',\n",
       "    'Feature': 'WAB',\n",
       "    'Type': 'SD'},\n",
       "   'NextBus3': {'OriginCode': '66009',\n",
       "    'DestinationCode': '66009',\n",
       "    'EstimatedArrival': '2019-01-30T17:10:47+08:00',\n",
       "    'Latitude': '1.350013',\n",
       "    'Longitude': '103.87139983333333',\n",
       "    'VisitNumber': '1',\n",
       "    'Load': 'SDA',\n",
       "    'Feature': 'WAB',\n",
       "    'Type': 'SD'}},\n",
       "  {'ServiceNo': '73',\n",
       "   'Operator': 'SBST',\n",
       "   'NextBus': {'OriginCode': '54009',\n",
       "    'DestinationCode': '54009',\n",
       "    'EstimatedArrival': '2019-01-30T16:58:40+08:00',\n",
       "    'Latitude': '1.364106',\n",
       "    'Longitude': '103.865828',\n",
       "    'VisitNumber': '1',\n",
       "    'Load': 'SEA',\n",
       "    'Feature': 'WAB',\n",
       "    'Type': 'SD'},\n",
       "   'NextBus2': {'OriginCode': '54009',\n",
       "    'DestinationCode': '54009',\n",
       "    'EstimatedArrival': '2019-01-30T17:05:29+08:00',\n",
       "    'Latitude': '1.3510368333333334',\n",
       "    'Longitude': '103.86201083333333',\n",
       "    'VisitNumber': '2',\n",
       "    'Load': 'SEA',\n",
       "    'Feature': 'WAB',\n",
       "    'Type': 'SD'},\n",
       "   'NextBus3': {'OriginCode': '54009',\n",
       "    'DestinationCode': '54009',\n",
       "    'EstimatedArrival': '2019-01-30T17:10:16+08:00',\n",
       "    'Latitude': '1.3730238333333333',\n",
       "    'Longitude': '103.87530783333334',\n",
       "    'VisitNumber': '1',\n",
       "    'Load': 'SEA',\n",
       "    'Feature': 'WAB',\n",
       "    'Type': 'SD'}}]}"
      ]
     },
     "execution_count": 10,
     "metadata": {},
     "output_type": "execute_result"
    }
   ],
   "source": [
    "r.json()"
   ]
  },
  {
   "cell_type": "code",
   "execution_count": null,
   "metadata": {},
   "outputs": [],
   "source": [
    "url = 'http://datamall2.mytransport.sg/ltaodataservice/'\n",
    "\n",
    "svcs = ['BusArrivalv2', 'BusServices', 'BusRoutes', 'BusStops', 'PV/Bus', 'PV/ODBus', 'PV/ODTrain', 'PV/Train', \\\n",
    "         'Taxi-Availability', 'TrainServiceAlerts', 'CarParkAvailabilityv2', 'ERPRates', 'EstTravelTimes', \\\n",
    "         'FaultyTrafficLights', 'RoadOpenings', 'RoadWorks', 'Traffic-Images', 'TrafficIncidents', \\\n",
    "         'TrafficSpeedBandsv2', 'VMS']"
   ]
  },
  {
   "cell_type": "markdown",
   "metadata": {},
   "source": [
    "https://www.mytransport.sg/content/dam/datamall/datasets/LTA_DataMall_API_User_Guide.pdf"
   ]
  },
  {
   "cell_type": "code",
   "execution_count": 1,
   "metadata": {},
   "outputs": [],
   "source": [
    "fare = [.83,.93,]"
   ]
  },
  {
   "cell_type": "code",
   "execution_count": 2,
   "metadata": {},
   "outputs": [
    {
     "data": {
      "text/plain": [
       "[0.83, 0.93]"
      ]
     },
     "execution_count": 2,
     "metadata": {},
     "output_type": "execute_result"
    }
   ],
   "source": [
    "fare"
   ]
  },
  {
   "cell_type": "code",
   "execution_count": null,
   "metadata": {},
   "outputs": [],
   "source": []
  }
 ],
 "metadata": {
  "kernelspec": {
   "display_name": "Python 3",
   "language": "python",
   "name": "python3"
  },
  "language_info": {
   "codemirror_mode": {
    "name": "ipython",
    "version": 3
   },
   "file_extension": ".py",
   "mimetype": "text/x-python",
   "name": "python",
   "nbconvert_exporter": "python",
   "pygments_lexer": "ipython3",
   "version": "3.7.6"
  }
 },
 "nbformat": 4,
 "nbformat_minor": 2
}
