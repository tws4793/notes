{
 "cells": [
  {
   "cell_type": "markdown",
   "metadata": {},
   "source": [
    "# Singapore Vehicle Check Letter\n",
    "\n",
    "This notebook contains the formula to derive the check letter of the vehicle registrations in Singapore."
   ]
  },
  {
   "cell_type": "markdown",
   "metadata": {},
   "source": [
    "## Algorithm\n",
    "\n",
    "The check_letter function contains the algorithm to calculate the check letter of the vehicle registration. For example, if the registration of the vehicle is SG5999Z, the prefix is 'SG' and the digits are '5999'. It returns the check letter of the registration, in this case, 'Z'."
   ]
  },
  {
   "cell_type": "code",
   "execution_count": 1,
   "metadata": {},
   "outputs": [],
   "source": [
    "def check_letter(prefix,n):\n",
    "    \"\"\"Returns the check letter based on the prefix and the digits\n",
    "    \n",
    "    Keyword arguments:\n",
    "    prefix -- Prefix of the registration (e.g. SG)\n",
    "    n      -- Digits of the registration (e.g. 5999)\n",
    "    \"\"\"\n",
    "    # Constants\n",
    "    const = 9,4,5,4,3,2\n",
    "    letters = 'AZYXUTSRPMLKJHGEDCB'\n",
    "    \n",
    "    # Manipulate the prefix\n",
    "    prefix = prefix.upper()\n",
    "    prefix = 'SCS' if (prefix == 'CSS') else 'S'*(3-len(prefix))+prefix\n",
    "    \n",
    "    # Consolidate into array that maps with the position of the fixed constants\n",
    "    rbin = [ord(x)-64 for x in prefix[1:]] + [int(y) for y in str(n).zfill(4)]\n",
    "    # Map-multiply and sum to get resultant sum\n",
    "    rsum = sum([a*b for a,b in zip(rbin,const)])\n",
    "\n",
    "    # Return the check letter\n",
    "    return letters[rsum%len(letters)]\n",
    "\n",
    "check_letter('TIB',832)"
   ]
  },
  {
   "cell_type": "markdown",
   "metadata": {},
   "source": [
    "## Handling Registration Strings\n",
    "\n",
    "break_rego function is to break the registration into 3 distinct components - the prefix, the digits and the suffix."
   ]
  },
  {
   "cell_type": "code",
   "execution_count": 2,
   "metadata": {},
   "outputs": [
    {
     "data": {
      "text/plain": [
       "['SG', 832, 'D']"
      ]
     },
     "execution_count": 2,
     "metadata": {},
     "output_type": "execute_result"
    }
   ],
   "source": [
    "import re\n",
    "\n",
    "def break_rego(rego):\n",
    "    \"\"\"Break the registration passed into this function into 3 separate components.\n",
    "    \n",
    "    The 3 components that will be returned as an array are:\n",
    "    Prefix (e.g. TIB) - str\n",
    "    Number (e.g. 832) - int\n",
    "    Suffix (e.g. Z) - str\n",
    "    \n",
    "    Keyword arguments:\n",
    "    rego -- Singapore registration of the vehicle\n",
    "    \"\"\"\n",
    "    r = re.findall('\\d+',rego)\n",
    "    r = [rego[:rego.find(r[0])]] + [int(r[0])] + [rego[-1]]\n",
    "    return r\n",
    "\n",
    "break_rego('SG832D')"
   ]
  },
  {
   "cell_type": "markdown",
   "metadata": {},
   "source": [
    "## Test Case\n",
    "\n",
    "Test case is to ensure the check_letter function is working correctly. It reads from a text file called 'rego.txt', which contains lines of Singapore vehicle registrations."
   ]
  },
  {
   "cell_type": "code",
   "execution_count": 3,
   "metadata": {},
   "outputs": [
    {
     "name": "stdout",
     "output_type": "stream",
     "text": [
      "54 of 54 test cases passed!\n"
     ]
    }
   ],
   "source": [
    "file = 'data/rego.txt'\n",
    "\n",
    "def test_case(file,verbose=False):\n",
    "    tc = 0\n",
    "    \n",
    "    try:\n",
    "        f = open(file,'r')\n",
    "    except FileNotFoundError:\n",
    "        f = open(file,'w+')\n",
    "        f.write('SG5999Z\\nSBS7777Y\\n')\n",
    "    \n",
    "    lines = f.read().split('\\n')\n",
    "    for reg in lines:\n",
    "        r = break_rego(reg)\n",
    "        lt = check_letter(r[0],r[1])\n",
    "\n",
    "        if r[2].upper() != lt:\n",
    "            print(reg)\n",
    "        else:\n",
    "            tc += 1\n",
    "\n",
    "        if verbose:\n",
    "            print(r[2].upper()==lt,r[0],r[1],r[2],lt)\n",
    "    \n",
    "    if not f.closed:\n",
    "        f.close()\n",
    "    \n",
    "    print(str(tc) + ' of ' + str(len(lines)) + ' test cases passed!')\n",
    "\n",
    "test_case(file)"
   ]
  }
 ],
 "metadata": {
  "kernelspec": {
   "display_name": "Python 3",
   "language": "python",
   "name": "python3"
  },
  "language_info": {
   "codemirror_mode": {
    "name": "ipython",
    "version": 3
   },
   "file_extension": ".py",
   "mimetype": "text/x-python",
   "name": "python",
   "nbconvert_exporter": "python",
   "pygments_lexer": "ipython3",
   "version": "3.6.7"
  }
 },
 "nbformat": 4,
 "nbformat_minor": 2
}
