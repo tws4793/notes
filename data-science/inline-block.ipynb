{
 "cells": [
  {
   "cell_type": "markdown",
   "metadata": {},
   "source": [
    "# Inline-vs-Block Elements and Implications for Web Scraping\n",
    "\n",
    "This notebook explains briefly the difference between inline and block elements and the implications for web scraping. We will use an example of a test page that has two block elements, and within it, some inline elements."
   ]
  },
  {
   "cell_type": "markdown",
   "metadata": {},
   "source": [
    "## Setup\n",
    "\n",
    "We will setup a simple example following the codes below:"
   ]
  },
  {
   "cell_type": "code",
   "execution_count": 1,
   "metadata": {},
   "outputs": [],
   "source": [
    "from bs4 import BeautifulSoup"
   ]
  },
  {
   "cell_type": "code",
   "execution_count": 2,
   "metadata": {},
   "outputs": [],
   "source": [
    "html = \"\"\"\n",
    "<!DOCTYPE html>\n",
    "<html>\n",
    "\n",
    "<head>\n",
    "    <title>Your Title Here</title>\n",
    "</head>\n",
    "\n",
    "<body>\n",
    "    <!-- Content -->\n",
    "    <main class=\"container-fluid\" role=\"main\">\n",
    "        <h1 class=\"mt5\">Hello world!</h1>\n",
    "        <p>Hello I am <b>X</b></p>\n",
    "        <p>and I am a worker at <b>Grab</b></p>\n",
    "        <!-- Your content goes here -->\n",
    "    </main>\n",
    "</body>\n",
    "\n",
    "</html>\n",
    "\"\"\""
   ]
  },
  {
   "cell_type": "code",
   "execution_count": 3,
   "metadata": {},
   "outputs": [],
   "source": [
    "soup = BeautifulSoup(html, 'html.parser')"
   ]
  },
  {
   "cell_type": "code",
   "execution_count": 4,
   "metadata": {},
   "outputs": [
    {
     "name": "stdout",
     "output_type": "stream",
     "text": [
      "<!DOCTYPE html>\n",
      "<html>\n",
      " <head>\n",
      "  <title>\n",
      "   Your Title Here\n",
      "  </title>\n",
      " </head>\n",
      " <body>\n",
      "  <!-- Content -->\n",
      "  <main class=\"container-fluid\" role=\"main\">\n",
      "   <h1 class=\"mt5\">\n",
      "    Hello world!\n",
      "   </h1>\n",
      "   <p>\n",
      "    Hello I am\n",
      "    <b>\n",
      "     X\n",
      "    </b>\n",
      "   </p>\n",
      "   <p>\n",
      "    and I am a worker at\n",
      "    <b>\n",
      "     Grab\n",
      "    </b>\n",
      "   </p>\n",
      "   <!-- Your content goes here -->\n",
      "  </main>\n",
      " </body>\n",
      "</html>\n",
      "\n"
     ]
    }
   ],
   "source": [
    "print(soup.prettify())"
   ]
  },
  {
   "cell_type": "markdown",
   "metadata": {},
   "source": [
    "## Inline-vs-Block Elements\n",
    "\n",
    "### Block elements\n",
    "\n",
    "Elements that are in \"blocks\". Examples are paragraphs and divs. They appear on the page as invisible blocks unless we add some form of styling to these blocks.\n",
    "\n",
    "```\n",
    "<p>This is a paragraph</p>\n",
    "<p>This is another paragraph</p>\n",
    "\n",
    "<div id=\"\" class=\"\"></div>\n",
    "```\n",
    "\n",
    "### Inline elements\n",
    "\n",
    "Elements that are included within a block. Examples are **bold**, *italics* and <u>underline</u>.\n",
    "\n",
    "```\n",
    "<p>This is a paragraph. <br /><b>Inside here I am an inline element that is bold!</b></p>\n",
    "<p>This is another paragraph.</p>\n",
    "```\n",
    "\n",
    "The above HTML code will output:\n",
    "\n",
    "> This is a paragraph.<br />\n",
    "> **Inside here I am an inline element that is bold!**\n",
    ">\n",
    "> This is another paragraph."
   ]
  },
  {
   "cell_type": "markdown",
   "metadata": {},
   "source": [
    "## Implications of Web Scraping\n",
    "\n",
    "We will still find such tags when we use BeautifulSoup's `find_all()` function. This is where we will need to be careful if we want to extract only the text without the tags."
   ]
  },
  {
   "cell_type": "code",
   "execution_count": 5,
   "metadata": {},
   "outputs": [
    {
     "data": {
      "text/plain": [
       "[<p>Hello I am <b>X</b></p>, <p>and I am a worker at <b>Grab</b></p>]"
      ]
     },
     "execution_count": 5,
     "metadata": {},
     "output_type": "execute_result"
    }
   ],
   "source": [
    "find_p = soup.find_all('p')\n",
    "find_p"
   ]
  },
  {
   "cell_type": "markdown",
   "metadata": {},
   "source": [
    "Using the `get_text()` function should strip all HTML tags."
   ]
  },
  {
   "cell_type": "code",
   "execution_count": 6,
   "metadata": {},
   "outputs": [
    {
     "data": {
      "text/plain": [
       "'Hello I am X'"
      ]
     },
     "execution_count": 6,
     "metadata": {},
     "output_type": "execute_result"
    }
   ],
   "source": [
    "find_p[0].get_text()"
   ]
  },
  {
   "cell_type": "code",
   "execution_count": 7,
   "metadata": {},
   "outputs": [
    {
     "data": {
      "text/plain": [
       "['Hello I am X', 'and I am a worker at Grab']"
      ]
     },
     "execution_count": 7,
     "metadata": {},
     "output_type": "execute_result"
    }
   ],
   "source": [
    "all_text = [t.get_text() for t in find_p]\n",
    "all_text"
   ]
  }
 ],
 "metadata": {
  "kernelspec": {
   "display_name": "Python 3",
   "language": "python",
   "name": "python3"
  },
  "language_info": {
   "codemirror_mode": {
    "name": "ipython",
    "version": 3
   },
   "file_extension": ".py",
   "mimetype": "text/x-python",
   "name": "python",
   "nbconvert_exporter": "python",
   "pygments_lexer": "ipython3",
   "version": "3.7.6"
  }
 },
 "nbformat": 4,
 "nbformat_minor": 4
}
